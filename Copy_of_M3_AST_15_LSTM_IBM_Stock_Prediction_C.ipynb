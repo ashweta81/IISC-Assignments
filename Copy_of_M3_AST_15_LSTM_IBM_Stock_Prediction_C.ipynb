{
  "nbformat": 4,
  "nbformat_minor": 0,
  "metadata": {
    "accelerator": "GPU",
    "colab": {
      "provenance": []
    },
    "kernelspec": {
      "display_name": "Python 3",
      "name": "python3"
    },
    "language_info": {
      "name": "python"
    }
  },
  "cells": [
    {
      "cell_type": "markdown",
      "metadata": {
        "id": "p4Nwm4FK3wgU"
      },
      "source": [
        "# Advanced Programme in Deep Learning (Foundations and Applications)\n",
        "## A Program by IISc and TalentSprint\n",
        "### Assignment 15: Prediction of IBM stock price using LSTM"
      ]
    },
    {
      "cell_type": "markdown",
      "metadata": {
        "id": "Gxx6U-UOap7k"
      },
      "source": [
        "## Learning Objectives"
      ]
    },
    {
      "cell_type": "markdown",
      "metadata": {
        "id": "xxBNbT2kbDJq"
      },
      "source": [
        "   \n",
        "  At the end of the experiment, you will be able to understand:\n",
        "  * How to make predictions on time series data (IBM Stock Price) using LSTM    \n"
      ]
    },
    {
      "cell_type": "markdown",
      "metadata": {
        "id": "rlfhVGmy95YI"
      },
      "source": [
        "### Dataset Description for IBM Stock Prices\n",
        "\n",
        "The dataset contains 12 years of stock data (in the range 2006-01-01 to 2017-12-29).\n",
        "\n",
        "Note: On 30th and 31st December 2017, the days were saturday and sunday when market is closed.\n",
        "\n",
        "Moreover, the dataset contains the following columns:\n",
        "\n",
        "1. **Date** - in format: yy-mm-dd\n",
        "\n",
        "2. **Open** - represents the opening price for stock market shares that day (this is NYSE data so all in USD)\n",
        "\n",
        "3. **High** - Highest price shares reached that day\n",
        "\n",
        "4. **Low** - Lowest price for shares reached that day\n",
        "\n",
        "5. **Close** - represents the price shares ended at for the day\n",
        "\n",
        "6. **Volume** - Number of shares traded\n",
        "\n",
        "7. **Name** - the stock's ticker name"
      ]
    },
    {
      "cell_type": "markdown",
      "source": [
        "### Purpose/Real-World Application\n",
        "\n",
        "The practical application of this experiment is to assist stock traders in their buying decisions by using historical data of stock pricing to identify trends and predict future prices. This product was built to provide assurance when making financial decisions."
      ],
      "metadata": {
        "id": "KOoAdvd1h17s"
      }
    },
    {
      "cell_type": "markdown",
      "metadata": {
        "id": "og1EHpbjgrHP"
      },
      "source": [
        "### Problem Statement\n",
        "Given the historical data of IBM stock prices(2006-2018), we need to predict the price of stock for the next day. This task can help us with better readiness with a picture of what can come next in the stock market.\n",
        "\n",
        "**Note** : To train our model, we will take past 60 days data as **Input** and predict the price of stock for the next day."
      ]
    },
    {
      "cell_type": "markdown",
      "metadata": {
        "id": "commercial-operation"
      },
      "source": [
        "### Introduction\n",
        "\n",
        "Sequence prediction problems have been around for a long time. They are considered as one of the hardest problems to solve in the data science industry. These include a wide range of problems; from predicting sales to finding patterns in stock markets’ data, from understanding movie plots to recognizing your way of speech, from language translations to predicting your next word on your iPhone’s keyboard.\n",
        "\n",
        "With the recent breakthroughs that have been happening in data science, it is found that for almost all of these sequence prediction problems, Long short Term Memory networks, a.k.a LSTMs have been observed as the most effective solution.\n",
        "\n",
        "LSTMs have an edge over conventional feed-forward neural networks and RNN in many ways. This is because of their property of selectively remembering patterns for long durations of time.\n",
        "\n",
        "**Long Short-Term Memory** units (LSTM) deal with the vanishing gradient problem encountered by traditional RNNs and able to remember a piece of information and keep it saved for many timesteps. This is a behavior required in complex problem domains like machine translation, speech recognition, and more.\n"
      ]
    },
    {
      "cell_type": "markdown",
      "metadata": {
        "id": "BNLA8HiKxQhc"
      },
      "source": [
        "### Setup Steps:"
      ]
    },
    {
      "cell_type": "code",
      "metadata": {
        "id": "xWMVQWk58aXm"
      },
      "source": [
        "#@title Please enter your registration id to start: { run: \"auto\", display-mode: \"form\" }\n",
        "Id = \"2239822\" #@param {type:\"string\"}"
      ],
      "execution_count": null,
      "outputs": []
    },
    {
      "cell_type": "code",
      "metadata": {
        "id": "cwqosl928dBA"
      },
      "source": [
        "#@title Please enter your password (normally your phone number) to continue: { run: \"auto\", display-mode: \"form\" }\n",
        "password = \"9167668365\" #@param {type:\"string\"}"
      ],
      "execution_count": null,
      "outputs": []
    },
    {
      "cell_type": "code",
      "metadata": {
        "cellView": "form",
        "id": "owGjKF5Ga4Gn",
        "colab": {
          "base_uri": "https://localhost:8080/",
          "height": 34
        },
        "outputId": "77a18cd3-385a-45d8-8924-895df9305617"
      },
      "source": [
        "#@title Run this cell to complete the setup for this Notebook\n",
        "from IPython import get_ipython\n",
        "import warnings\n",
        "warnings.filterwarnings(\"ignore\")\n",
        "\n",
        "ipython = get_ipython()\n",
        "\n",
        "notebook= \"M3_AST_15_LSTM_IBM_Stock_Prediction_C\" #name of the notebook\n",
        "\n",
        "def setup():\n",
        "    ipython.magic(\"sx wget https://cdn.iisc.talentsprint.com/DLFA/Experiment_related_data/IBM_2006-01-01_to_2018-01-01.csv\")\n",
        "    from IPython.display import HTML, display\n",
        "    display(HTML('<script src=\"https://dashboard.talentsprint.com/aiml/record_ip.html?traineeId={0}&recordId={1}\"></script>'.format(getId(),submission_id)))\n",
        "    print(\"Setup completed successfully\")\n",
        "    return\n",
        "\n",
        "def submit_notebook():\n",
        "    ipython.magic(\"notebook -e \"+ notebook + \".ipynb\")\n",
        "\n",
        "    import requests, json, base64, datetime\n",
        "\n",
        "    url = \"https://dashboard.talentsprint.com/xp/app/save_notebook_attempts\"\n",
        "    if not submission_id:\n",
        "      data = {\"id\" : getId(), \"notebook\" : notebook, \"mobile\" : getPassword()}\n",
        "      r = requests.post(url, data = data)\n",
        "      r = json.loads(r.text)\n",
        "\n",
        "      if r[\"status\"] == \"Success\":\n",
        "          return r[\"record_id\"]\n",
        "      elif \"err\" in r:\n",
        "        print(r[\"err\"])\n",
        "        return None\n",
        "      else:\n",
        "        print (\"Something is wrong, the notebook will not be submitted for grading\")\n",
        "        return None\n",
        "\n",
        "    elif getAnswer1() and getAnswer2() and getComplexity() and getAdditional() and getConcepts() and getComments() and getMentorSupport():\n",
        "      f = open(notebook + \".ipynb\", \"rb\")\n",
        "      file_hash = base64.b64encode(f.read())\n",
        "\n",
        "      data = {\"complexity\" : Complexity, \"additional\" :Additional,\n",
        "              \"concepts\" : Concepts, \"record_id\" : submission_id,\n",
        "              \"answer1\" : Answer1, \"answer2\" : Answer2, \"id\" : Id, \"file_hash\" : file_hash,\n",
        "              \"notebook\" : notebook,\n",
        "              \"feedback_experiments_input\" : Comments,\n",
        "              \"feedback_mentor_support\": Mentor_support}\n",
        "      r = requests.post(url, data = data)\n",
        "      r = json.loads(r.text)\n",
        "      if \"err\" in r:\n",
        "        print(r[\"err\"])\n",
        "        return None\n",
        "      else:\n",
        "        print(\"Your submission is successful.\")\n",
        "        print(\"Ref Id:\", submission_id)\n",
        "        print(\"Date of submission: \", r[\"date\"])\n",
        "        print(\"Time of submission: \", r[\"time\"])\n",
        "        print(\"View your submissions: https://dlfa-iisc.talentsprint.com/notebook_submissions\")\n",
        "        #print(\"For any queries/discrepancies, please connect with mentors through the chat icon in LMS dashboard.\")\n",
        "        return submission_id\n",
        "    else: submission_id\n",
        "\n",
        "\n",
        "def getAdditional():\n",
        "  try:\n",
        "    if not Additional:\n",
        "      raise NameError\n",
        "    else:\n",
        "      return Additional\n",
        "  except NameError:\n",
        "    print (\"Please answer Additional Question\")\n",
        "    return None\n",
        "\n",
        "def getComplexity():\n",
        "  try:\n",
        "    if not Complexity:\n",
        "      raise NameError\n",
        "    else:\n",
        "      return Complexity\n",
        "  except NameError:\n",
        "    print (\"Please answer Complexity Question\")\n",
        "    return None\n",
        "\n",
        "def getConcepts():\n",
        "  try:\n",
        "    if not Concepts:\n",
        "      raise NameError\n",
        "    else:\n",
        "      return Concepts\n",
        "  except NameError:\n",
        "    print (\"Please answer Concepts Question\")\n",
        "    return None\n",
        "\n",
        "\n",
        "# def getWalkthrough():\n",
        "#   try:\n",
        "#     if not Walkthrough:\n",
        "#       raise NameError\n",
        "#     else:\n",
        "#       return Walkthrough\n",
        "#   except NameError:\n",
        "#     print (\"Please answer Walkthrough Question\")\n",
        "#     return None\n",
        "\n",
        "def getComments():\n",
        "  try:\n",
        "    if not Comments:\n",
        "      raise NameError\n",
        "    else:\n",
        "      return Comments\n",
        "  except NameError:\n",
        "    print (\"Please answer Comments Question\")\n",
        "    return None\n",
        "\n",
        "\n",
        "def getMentorSupport():\n",
        "  try:\n",
        "    if not Mentor_support:\n",
        "      raise NameError\n",
        "    else:\n",
        "      return Mentor_support\n",
        "  except NameError:\n",
        "    print (\"Please answer Mentor support Question\")\n",
        "    return None\n",
        "\n",
        "def getAnswer1():\n",
        "  try:\n",
        "    if not Answer1:\n",
        "      raise NameError\n",
        "    else:\n",
        "      return Answer1\n",
        "  except NameError:\n",
        "    print (\"Please answer Question 1\")\n",
        "    return None\n",
        "\n",
        "def getAnswer2():\n",
        "  try:\n",
        "    if not Answer2:\n",
        "      raise NameError\n",
        "    else:\n",
        "      return Answer2\n",
        "  except NameError:\n",
        "    print (\"Please answer Question 2\")\n",
        "    return None\n",
        "\n",
        "\n",
        "def getId():\n",
        "  try:\n",
        "    return Id if Id else None\n",
        "  except NameError:\n",
        "    return None\n",
        "\n",
        "def getPassword():\n",
        "  try:\n",
        "    return password if password else None\n",
        "  except NameError:\n",
        "    return None\n",
        "\n",
        "submission_id = None\n",
        "### Setup\n",
        "if getPassword() and getId():\n",
        "  submission_id = submit_notebook()\n",
        "  if submission_id:\n",
        "    setup()\n",
        "else:\n",
        "  print (\"Please complete Id and Password cells before running setup\")\n",
        "\n"
      ],
      "execution_count": null,
      "outputs": [
        {
          "output_type": "display_data",
          "data": {
            "text/plain": [
              "<IPython.core.display.HTML object>"
            ],
            "text/html": [
              "<script src=\"https://dashboard.talentsprint.com/aiml/record_ip.html?traineeId=2239822&recordId=1502\"></script>"
            ]
          },
          "metadata": {}
        },
        {
          "output_type": "stream",
          "name": "stdout",
          "text": [
            "Setup completed successfully\n"
          ]
        }
      ]
    },
    {
      "cell_type": "markdown",
      "metadata": {
        "id": "W4t7tx4r7q2Y"
      },
      "source": [
        "#### Importing required packages"
      ]
    },
    {
      "cell_type": "code",
      "metadata": {
        "id": "J5BV40n7Lc6s"
      },
      "source": [
        "import numpy as np\n",
        "import matplotlib.pyplot as plt\n",
        "plt.style.use('fivethirtyeight')\n",
        "import pandas as pd\n",
        "from sklearn.preprocessing import MinMaxScaler\n",
        "from keras.models import Sequential\n",
        "from keras.layers import Dense, LSTM, Dropout\n",
        "from keras.optimizers import SGD\n",
        "import math\n",
        "from sklearn.metrics import mean_squared_error"
      ],
      "execution_count": null,
      "outputs": []
    },
    {
      "cell_type": "markdown",
      "metadata": {
        "id": "Z99_itE5J7Ec"
      },
      "source": [
        "### Loading the dataset"
      ]
    },
    {
      "cell_type": "code",
      "metadata": {
        "id": "35LduRuRLlqK"
      },
      "source": [
        "dataset = pd.read_csv('/content/IBM_2006-01-01_to_2018-01-01.csv', index_col='Date', parse_dates=['Date'])"
      ],
      "execution_count": null,
      "outputs": []
    },
    {
      "cell_type": "markdown",
      "metadata": {
        "id": "FTRCGjC7KWOo"
      },
      "source": [
        "Let us look at few of the values from the dataset."
      ]
    },
    {
      "cell_type": "code",
      "metadata": {
        "id": "V5UFKFHlKTqu",
        "colab": {
          "base_uri": "https://localhost:8080/",
          "height": 238
        },
        "outputId": "4eca3374-6983-47b4-fd57-1c8d406e6f62"
      },
      "source": [
        "# Getting the first five values\n",
        "dataset.head()"
      ],
      "execution_count": null,
      "outputs": [
        {
          "output_type": "execute_result",
          "data": {
            "text/plain": [
              "             Open   High    Low  Close    Volume Name\n",
              "Date                                                 \n",
              "2006-01-03  82.45  82.55  80.81  82.06  11715200  IBM\n",
              "2006-01-04  82.20  82.50  81.33  81.95   9840600  IBM\n",
              "2006-01-05  81.40  82.90  81.00  82.50   7213500  IBM\n",
              "2006-01-06  83.95  85.03  83.41  84.95   8197400  IBM\n",
              "2006-01-09  84.10  84.25  83.38  83.73   6858200  IBM"
            ],
            "text/html": [
              "\n",
              "  <div id=\"df-2555f3c5-a126-4bd6-bf49-1d4bd667bd8b\" class=\"colab-df-container\">\n",
              "    <div>\n",
              "<style scoped>\n",
              "    .dataframe tbody tr th:only-of-type {\n",
              "        vertical-align: middle;\n",
              "    }\n",
              "\n",
              "    .dataframe tbody tr th {\n",
              "        vertical-align: top;\n",
              "    }\n",
              "\n",
              "    .dataframe thead th {\n",
              "        text-align: right;\n",
              "    }\n",
              "</style>\n",
              "<table border=\"1\" class=\"dataframe\">\n",
              "  <thead>\n",
              "    <tr style=\"text-align: right;\">\n",
              "      <th></th>\n",
              "      <th>Open</th>\n",
              "      <th>High</th>\n",
              "      <th>Low</th>\n",
              "      <th>Close</th>\n",
              "      <th>Volume</th>\n",
              "      <th>Name</th>\n",
              "    </tr>\n",
              "    <tr>\n",
              "      <th>Date</th>\n",
              "      <th></th>\n",
              "      <th></th>\n",
              "      <th></th>\n",
              "      <th></th>\n",
              "      <th></th>\n",
              "      <th></th>\n",
              "    </tr>\n",
              "  </thead>\n",
              "  <tbody>\n",
              "    <tr>\n",
              "      <th>2006-01-03</th>\n",
              "      <td>82.45</td>\n",
              "      <td>82.55</td>\n",
              "      <td>80.81</td>\n",
              "      <td>82.06</td>\n",
              "      <td>11715200</td>\n",
              "      <td>IBM</td>\n",
              "    </tr>\n",
              "    <tr>\n",
              "      <th>2006-01-04</th>\n",
              "      <td>82.20</td>\n",
              "      <td>82.50</td>\n",
              "      <td>81.33</td>\n",
              "      <td>81.95</td>\n",
              "      <td>9840600</td>\n",
              "      <td>IBM</td>\n",
              "    </tr>\n",
              "    <tr>\n",
              "      <th>2006-01-05</th>\n",
              "      <td>81.40</td>\n",
              "      <td>82.90</td>\n",
              "      <td>81.00</td>\n",
              "      <td>82.50</td>\n",
              "      <td>7213500</td>\n",
              "      <td>IBM</td>\n",
              "    </tr>\n",
              "    <tr>\n",
              "      <th>2006-01-06</th>\n",
              "      <td>83.95</td>\n",
              "      <td>85.03</td>\n",
              "      <td>83.41</td>\n",
              "      <td>84.95</td>\n",
              "      <td>8197400</td>\n",
              "      <td>IBM</td>\n",
              "    </tr>\n",
              "    <tr>\n",
              "      <th>2006-01-09</th>\n",
              "      <td>84.10</td>\n",
              "      <td>84.25</td>\n",
              "      <td>83.38</td>\n",
              "      <td>83.73</td>\n",
              "      <td>6858200</td>\n",
              "      <td>IBM</td>\n",
              "    </tr>\n",
              "  </tbody>\n",
              "</table>\n",
              "</div>\n",
              "    <div class=\"colab-df-buttons\">\n",
              "\n",
              "  <div class=\"colab-df-container\">\n",
              "    <button class=\"colab-df-convert\" onclick=\"convertToInteractive('df-2555f3c5-a126-4bd6-bf49-1d4bd667bd8b')\"\n",
              "            title=\"Convert this dataframe to an interactive table.\"\n",
              "            style=\"display:none;\">\n",
              "\n",
              "  <svg xmlns=\"http://www.w3.org/2000/svg\" height=\"24px\" viewBox=\"0 -960 960 960\">\n",
              "    <path d=\"M120-120v-720h720v720H120Zm60-500h600v-160H180v160Zm220 220h160v-160H400v160Zm0 220h160v-160H400v160ZM180-400h160v-160H180v160Zm440 0h160v-160H620v160ZM180-180h160v-160H180v160Zm440 0h160v-160H620v160Z\"/>\n",
              "  </svg>\n",
              "    </button>\n",
              "\n",
              "  <style>\n",
              "    .colab-df-container {\n",
              "      display:flex;\n",
              "      gap: 12px;\n",
              "    }\n",
              "\n",
              "    .colab-df-convert {\n",
              "      background-color: #E8F0FE;\n",
              "      border: none;\n",
              "      border-radius: 50%;\n",
              "      cursor: pointer;\n",
              "      display: none;\n",
              "      fill: #1967D2;\n",
              "      height: 32px;\n",
              "      padding: 0 0 0 0;\n",
              "      width: 32px;\n",
              "    }\n",
              "\n",
              "    .colab-df-convert:hover {\n",
              "      background-color: #E2EBFA;\n",
              "      box-shadow: 0px 1px 2px rgba(60, 64, 67, 0.3), 0px 1px 3px 1px rgba(60, 64, 67, 0.15);\n",
              "      fill: #174EA6;\n",
              "    }\n",
              "\n",
              "    .colab-df-buttons div {\n",
              "      margin-bottom: 4px;\n",
              "    }\n",
              "\n",
              "    [theme=dark] .colab-df-convert {\n",
              "      background-color: #3B4455;\n",
              "      fill: #D2E3FC;\n",
              "    }\n",
              "\n",
              "    [theme=dark] .colab-df-convert:hover {\n",
              "      background-color: #434B5C;\n",
              "      box-shadow: 0px 1px 3px 1px rgba(0, 0, 0, 0.15);\n",
              "      filter: drop-shadow(0px 1px 2px rgba(0, 0, 0, 0.3));\n",
              "      fill: #FFFFFF;\n",
              "    }\n",
              "  </style>\n",
              "\n",
              "    <script>\n",
              "      const buttonEl =\n",
              "        document.querySelector('#df-2555f3c5-a126-4bd6-bf49-1d4bd667bd8b button.colab-df-convert');\n",
              "      buttonEl.style.display =\n",
              "        google.colab.kernel.accessAllowed ? 'block' : 'none';\n",
              "\n",
              "      async function convertToInteractive(key) {\n",
              "        const element = document.querySelector('#df-2555f3c5-a126-4bd6-bf49-1d4bd667bd8b');\n",
              "        const dataTable =\n",
              "          await google.colab.kernel.invokeFunction('convertToInteractive',\n",
              "                                                    [key], {});\n",
              "        if (!dataTable) return;\n",
              "\n",
              "        const docLinkHtml = 'Like what you see? Visit the ' +\n",
              "          '<a target=\"_blank\" href=https://colab.research.google.com/notebooks/data_table.ipynb>data table notebook</a>'\n",
              "          + ' to learn more about interactive tables.';\n",
              "        element.innerHTML = '';\n",
              "        dataTable['output_type'] = 'display_data';\n",
              "        await google.colab.output.renderOutput(dataTable, element);\n",
              "        const docLink = document.createElement('div');\n",
              "        docLink.innerHTML = docLinkHtml;\n",
              "        element.appendChild(docLink);\n",
              "      }\n",
              "    </script>\n",
              "  </div>\n",
              "\n",
              "\n",
              "<div id=\"df-72e1c4be-d14f-4552-b06b-e660f1de1c50\">\n",
              "  <button class=\"colab-df-quickchart\" onclick=\"quickchart('df-72e1c4be-d14f-4552-b06b-e660f1de1c50')\"\n",
              "            title=\"Suggest charts.\"\n",
              "            style=\"display:none;\">\n",
              "\n",
              "<svg xmlns=\"http://www.w3.org/2000/svg\" height=\"24px\"viewBox=\"0 0 24 24\"\n",
              "     width=\"24px\">\n",
              "    <g>\n",
              "        <path d=\"M19 3H5c-1.1 0-2 .9-2 2v14c0 1.1.9 2 2 2h14c1.1 0 2-.9 2-2V5c0-1.1-.9-2-2-2zM9 17H7v-7h2v7zm4 0h-2V7h2v10zm4 0h-2v-4h2v4z\"/>\n",
              "    </g>\n",
              "</svg>\n",
              "  </button>\n",
              "\n",
              "<style>\n",
              "  .colab-df-quickchart {\n",
              "      --bg-color: #E8F0FE;\n",
              "      --fill-color: #1967D2;\n",
              "      --hover-bg-color: #E2EBFA;\n",
              "      --hover-fill-color: #174EA6;\n",
              "      --disabled-fill-color: #AAA;\n",
              "      --disabled-bg-color: #DDD;\n",
              "  }\n",
              "\n",
              "  [theme=dark] .colab-df-quickchart {\n",
              "      --bg-color: #3B4455;\n",
              "      --fill-color: #D2E3FC;\n",
              "      --hover-bg-color: #434B5C;\n",
              "      --hover-fill-color: #FFFFFF;\n",
              "      --disabled-bg-color: #3B4455;\n",
              "      --disabled-fill-color: #666;\n",
              "  }\n",
              "\n",
              "  .colab-df-quickchart {\n",
              "    background-color: var(--bg-color);\n",
              "    border: none;\n",
              "    border-radius: 50%;\n",
              "    cursor: pointer;\n",
              "    display: none;\n",
              "    fill: var(--fill-color);\n",
              "    height: 32px;\n",
              "    padding: 0;\n",
              "    width: 32px;\n",
              "  }\n",
              "\n",
              "  .colab-df-quickchart:hover {\n",
              "    background-color: var(--hover-bg-color);\n",
              "    box-shadow: 0 1px 2px rgba(60, 64, 67, 0.3), 0 1px 3px 1px rgba(60, 64, 67, 0.15);\n",
              "    fill: var(--button-hover-fill-color);\n",
              "  }\n",
              "\n",
              "  .colab-df-quickchart-complete:disabled,\n",
              "  .colab-df-quickchart-complete:disabled:hover {\n",
              "    background-color: var(--disabled-bg-color);\n",
              "    fill: var(--disabled-fill-color);\n",
              "    box-shadow: none;\n",
              "  }\n",
              "\n",
              "  .colab-df-spinner {\n",
              "    border: 2px solid var(--fill-color);\n",
              "    border-color: transparent;\n",
              "    border-bottom-color: var(--fill-color);\n",
              "    animation:\n",
              "      spin 1s steps(1) infinite;\n",
              "  }\n",
              "\n",
              "  @keyframes spin {\n",
              "    0% {\n",
              "      border-color: transparent;\n",
              "      border-bottom-color: var(--fill-color);\n",
              "      border-left-color: var(--fill-color);\n",
              "    }\n",
              "    20% {\n",
              "      border-color: transparent;\n",
              "      border-left-color: var(--fill-color);\n",
              "      border-top-color: var(--fill-color);\n",
              "    }\n",
              "    30% {\n",
              "      border-color: transparent;\n",
              "      border-left-color: var(--fill-color);\n",
              "      border-top-color: var(--fill-color);\n",
              "      border-right-color: var(--fill-color);\n",
              "    }\n",
              "    40% {\n",
              "      border-color: transparent;\n",
              "      border-right-color: var(--fill-color);\n",
              "      border-top-color: var(--fill-color);\n",
              "    }\n",
              "    60% {\n",
              "      border-color: transparent;\n",
              "      border-right-color: var(--fill-color);\n",
              "    }\n",
              "    80% {\n",
              "      border-color: transparent;\n",
              "      border-right-color: var(--fill-color);\n",
              "      border-bottom-color: var(--fill-color);\n",
              "    }\n",
              "    90% {\n",
              "      border-color: transparent;\n",
              "      border-bottom-color: var(--fill-color);\n",
              "    }\n",
              "  }\n",
              "</style>\n",
              "\n",
              "  <script>\n",
              "    async function quickchart(key) {\n",
              "      const quickchartButtonEl =\n",
              "        document.querySelector('#' + key + ' button');\n",
              "      quickchartButtonEl.disabled = true;  // To prevent multiple clicks.\n",
              "      quickchartButtonEl.classList.add('colab-df-spinner');\n",
              "      try {\n",
              "        const charts = await google.colab.kernel.invokeFunction(\n",
              "            'suggestCharts', [key], {});\n",
              "      } catch (error) {\n",
              "        console.error('Error during call to suggestCharts:', error);\n",
              "      }\n",
              "      quickchartButtonEl.classList.remove('colab-df-spinner');\n",
              "      quickchartButtonEl.classList.add('colab-df-quickchart-complete');\n",
              "    }\n",
              "    (() => {\n",
              "      let quickchartButtonEl =\n",
              "        document.querySelector('#df-72e1c4be-d14f-4552-b06b-e660f1de1c50 button');\n",
              "      quickchartButtonEl.style.display =\n",
              "        google.colab.kernel.accessAllowed ? 'block' : 'none';\n",
              "    })();\n",
              "  </script>\n",
              "</div>\n",
              "    </div>\n",
              "  </div>\n"
            ]
          },
          "metadata": {},
          "execution_count": 6
        }
      ]
    },
    {
      "cell_type": "code",
      "metadata": {
        "id": "Z3SSKyt4DVtx",
        "colab": {
          "base_uri": "https://localhost:8080/",
          "height": 238
        },
        "outputId": "cfb394ea-184f-46cd-ce45-8d0cb8589951"
      },
      "source": [
        "# Getting the last five values\n",
        "dataset.tail()"
      ],
      "execution_count": null,
      "outputs": [
        {
          "output_type": "execute_result",
          "data": {
            "text/plain": [
              "              Open    High     Low   Close   Volume Name\n",
              "Date                                                    \n",
              "2017-12-22  151.82  153.00  151.50  152.50  2990583  IBM\n",
              "2017-12-26  152.51  153.86  152.50  152.83  2479017  IBM\n",
              "2017-12-27  152.95  153.18  152.61  153.13  2149257  IBM\n",
              "2017-12-28  153.20  154.12  153.20  154.04  2687624  IBM\n",
              "2017-12-29  154.17  154.72  153.42  153.42  3327087  IBM"
            ],
            "text/html": [
              "\n",
              "  <div id=\"df-4c6bb65a-fcc7-491b-b298-1fbfa96a64b1\" class=\"colab-df-container\">\n",
              "    <div>\n",
              "<style scoped>\n",
              "    .dataframe tbody tr th:only-of-type {\n",
              "        vertical-align: middle;\n",
              "    }\n",
              "\n",
              "    .dataframe tbody tr th {\n",
              "        vertical-align: top;\n",
              "    }\n",
              "\n",
              "    .dataframe thead th {\n",
              "        text-align: right;\n",
              "    }\n",
              "</style>\n",
              "<table border=\"1\" class=\"dataframe\">\n",
              "  <thead>\n",
              "    <tr style=\"text-align: right;\">\n",
              "      <th></th>\n",
              "      <th>Open</th>\n",
              "      <th>High</th>\n",
              "      <th>Low</th>\n",
              "      <th>Close</th>\n",
              "      <th>Volume</th>\n",
              "      <th>Name</th>\n",
              "    </tr>\n",
              "    <tr>\n",
              "      <th>Date</th>\n",
              "      <th></th>\n",
              "      <th></th>\n",
              "      <th></th>\n",
              "      <th></th>\n",
              "      <th></th>\n",
              "      <th></th>\n",
              "    </tr>\n",
              "  </thead>\n",
              "  <tbody>\n",
              "    <tr>\n",
              "      <th>2017-12-22</th>\n",
              "      <td>151.82</td>\n",
              "      <td>153.00</td>\n",
              "      <td>151.50</td>\n",
              "      <td>152.50</td>\n",
              "      <td>2990583</td>\n",
              "      <td>IBM</td>\n",
              "    </tr>\n",
              "    <tr>\n",
              "      <th>2017-12-26</th>\n",
              "      <td>152.51</td>\n",
              "      <td>153.86</td>\n",
              "      <td>152.50</td>\n",
              "      <td>152.83</td>\n",
              "      <td>2479017</td>\n",
              "      <td>IBM</td>\n",
              "    </tr>\n",
              "    <tr>\n",
              "      <th>2017-12-27</th>\n",
              "      <td>152.95</td>\n",
              "      <td>153.18</td>\n",
              "      <td>152.61</td>\n",
              "      <td>153.13</td>\n",
              "      <td>2149257</td>\n",
              "      <td>IBM</td>\n",
              "    </tr>\n",
              "    <tr>\n",
              "      <th>2017-12-28</th>\n",
              "      <td>153.20</td>\n",
              "      <td>154.12</td>\n",
              "      <td>153.20</td>\n",
              "      <td>154.04</td>\n",
              "      <td>2687624</td>\n",
              "      <td>IBM</td>\n",
              "    </tr>\n",
              "    <tr>\n",
              "      <th>2017-12-29</th>\n",
              "      <td>154.17</td>\n",
              "      <td>154.72</td>\n",
              "      <td>153.42</td>\n",
              "      <td>153.42</td>\n",
              "      <td>3327087</td>\n",
              "      <td>IBM</td>\n",
              "    </tr>\n",
              "  </tbody>\n",
              "</table>\n",
              "</div>\n",
              "    <div class=\"colab-df-buttons\">\n",
              "\n",
              "  <div class=\"colab-df-container\">\n",
              "    <button class=\"colab-df-convert\" onclick=\"convertToInteractive('df-4c6bb65a-fcc7-491b-b298-1fbfa96a64b1')\"\n",
              "            title=\"Convert this dataframe to an interactive table.\"\n",
              "            style=\"display:none;\">\n",
              "\n",
              "  <svg xmlns=\"http://www.w3.org/2000/svg\" height=\"24px\" viewBox=\"0 -960 960 960\">\n",
              "    <path d=\"M120-120v-720h720v720H120Zm60-500h600v-160H180v160Zm220 220h160v-160H400v160Zm0 220h160v-160H400v160ZM180-400h160v-160H180v160Zm440 0h160v-160H620v160ZM180-180h160v-160H180v160Zm440 0h160v-160H620v160Z\"/>\n",
              "  </svg>\n",
              "    </button>\n",
              "\n",
              "  <style>\n",
              "    .colab-df-container {\n",
              "      display:flex;\n",
              "      gap: 12px;\n",
              "    }\n",
              "\n",
              "    .colab-df-convert {\n",
              "      background-color: #E8F0FE;\n",
              "      border: none;\n",
              "      border-radius: 50%;\n",
              "      cursor: pointer;\n",
              "      display: none;\n",
              "      fill: #1967D2;\n",
              "      height: 32px;\n",
              "      padding: 0 0 0 0;\n",
              "      width: 32px;\n",
              "    }\n",
              "\n",
              "    .colab-df-convert:hover {\n",
              "      background-color: #E2EBFA;\n",
              "      box-shadow: 0px 1px 2px rgba(60, 64, 67, 0.3), 0px 1px 3px 1px rgba(60, 64, 67, 0.15);\n",
              "      fill: #174EA6;\n",
              "    }\n",
              "\n",
              "    .colab-df-buttons div {\n",
              "      margin-bottom: 4px;\n",
              "    }\n",
              "\n",
              "    [theme=dark] .colab-df-convert {\n",
              "      background-color: #3B4455;\n",
              "      fill: #D2E3FC;\n",
              "    }\n",
              "\n",
              "    [theme=dark] .colab-df-convert:hover {\n",
              "      background-color: #434B5C;\n",
              "      box-shadow: 0px 1px 3px 1px rgba(0, 0, 0, 0.15);\n",
              "      filter: drop-shadow(0px 1px 2px rgba(0, 0, 0, 0.3));\n",
              "      fill: #FFFFFF;\n",
              "    }\n",
              "  </style>\n",
              "\n",
              "    <script>\n",
              "      const buttonEl =\n",
              "        document.querySelector('#df-4c6bb65a-fcc7-491b-b298-1fbfa96a64b1 button.colab-df-convert');\n",
              "      buttonEl.style.display =\n",
              "        google.colab.kernel.accessAllowed ? 'block' : 'none';\n",
              "\n",
              "      async function convertToInteractive(key) {\n",
              "        const element = document.querySelector('#df-4c6bb65a-fcc7-491b-b298-1fbfa96a64b1');\n",
              "        const dataTable =\n",
              "          await google.colab.kernel.invokeFunction('convertToInteractive',\n",
              "                                                    [key], {});\n",
              "        if (!dataTable) return;\n",
              "\n",
              "        const docLinkHtml = 'Like what you see? Visit the ' +\n",
              "          '<a target=\"_blank\" href=https://colab.research.google.com/notebooks/data_table.ipynb>data table notebook</a>'\n",
              "          + ' to learn more about interactive tables.';\n",
              "        element.innerHTML = '';\n",
              "        dataTable['output_type'] = 'display_data';\n",
              "        await google.colab.output.renderOutput(dataTable, element);\n",
              "        const docLink = document.createElement('div');\n",
              "        docLink.innerHTML = docLinkHtml;\n",
              "        element.appendChild(docLink);\n",
              "      }\n",
              "    </script>\n",
              "  </div>\n",
              "\n",
              "\n",
              "<div id=\"df-5a25218f-3ad5-4b1d-aefc-52fb5444c45f\">\n",
              "  <button class=\"colab-df-quickchart\" onclick=\"quickchart('df-5a25218f-3ad5-4b1d-aefc-52fb5444c45f')\"\n",
              "            title=\"Suggest charts.\"\n",
              "            style=\"display:none;\">\n",
              "\n",
              "<svg xmlns=\"http://www.w3.org/2000/svg\" height=\"24px\"viewBox=\"0 0 24 24\"\n",
              "     width=\"24px\">\n",
              "    <g>\n",
              "        <path d=\"M19 3H5c-1.1 0-2 .9-2 2v14c0 1.1.9 2 2 2h14c1.1 0 2-.9 2-2V5c0-1.1-.9-2-2-2zM9 17H7v-7h2v7zm4 0h-2V7h2v10zm4 0h-2v-4h2v4z\"/>\n",
              "    </g>\n",
              "</svg>\n",
              "  </button>\n",
              "\n",
              "<style>\n",
              "  .colab-df-quickchart {\n",
              "      --bg-color: #E8F0FE;\n",
              "      --fill-color: #1967D2;\n",
              "      --hover-bg-color: #E2EBFA;\n",
              "      --hover-fill-color: #174EA6;\n",
              "      --disabled-fill-color: #AAA;\n",
              "      --disabled-bg-color: #DDD;\n",
              "  }\n",
              "\n",
              "  [theme=dark] .colab-df-quickchart {\n",
              "      --bg-color: #3B4455;\n",
              "      --fill-color: #D2E3FC;\n",
              "      --hover-bg-color: #434B5C;\n",
              "      --hover-fill-color: #FFFFFF;\n",
              "      --disabled-bg-color: #3B4455;\n",
              "      --disabled-fill-color: #666;\n",
              "  }\n",
              "\n",
              "  .colab-df-quickchart {\n",
              "    background-color: var(--bg-color);\n",
              "    border: none;\n",
              "    border-radius: 50%;\n",
              "    cursor: pointer;\n",
              "    display: none;\n",
              "    fill: var(--fill-color);\n",
              "    height: 32px;\n",
              "    padding: 0;\n",
              "    width: 32px;\n",
              "  }\n",
              "\n",
              "  .colab-df-quickchart:hover {\n",
              "    background-color: var(--hover-bg-color);\n",
              "    box-shadow: 0 1px 2px rgba(60, 64, 67, 0.3), 0 1px 3px 1px rgba(60, 64, 67, 0.15);\n",
              "    fill: var(--button-hover-fill-color);\n",
              "  }\n",
              "\n",
              "  .colab-df-quickchart-complete:disabled,\n",
              "  .colab-df-quickchart-complete:disabled:hover {\n",
              "    background-color: var(--disabled-bg-color);\n",
              "    fill: var(--disabled-fill-color);\n",
              "    box-shadow: none;\n",
              "  }\n",
              "\n",
              "  .colab-df-spinner {\n",
              "    border: 2px solid var(--fill-color);\n",
              "    border-color: transparent;\n",
              "    border-bottom-color: var(--fill-color);\n",
              "    animation:\n",
              "      spin 1s steps(1) infinite;\n",
              "  }\n",
              "\n",
              "  @keyframes spin {\n",
              "    0% {\n",
              "      border-color: transparent;\n",
              "      border-bottom-color: var(--fill-color);\n",
              "      border-left-color: var(--fill-color);\n",
              "    }\n",
              "    20% {\n",
              "      border-color: transparent;\n",
              "      border-left-color: var(--fill-color);\n",
              "      border-top-color: var(--fill-color);\n",
              "    }\n",
              "    30% {\n",
              "      border-color: transparent;\n",
              "      border-left-color: var(--fill-color);\n",
              "      border-top-color: var(--fill-color);\n",
              "      border-right-color: var(--fill-color);\n",
              "    }\n",
              "    40% {\n",
              "      border-color: transparent;\n",
              "      border-right-color: var(--fill-color);\n",
              "      border-top-color: var(--fill-color);\n",
              "    }\n",
              "    60% {\n",
              "      border-color: transparent;\n",
              "      border-right-color: var(--fill-color);\n",
              "    }\n",
              "    80% {\n",
              "      border-color: transparent;\n",
              "      border-right-color: var(--fill-color);\n",
              "      border-bottom-color: var(--fill-color);\n",
              "    }\n",
              "    90% {\n",
              "      border-color: transparent;\n",
              "      border-bottom-color: var(--fill-color);\n",
              "    }\n",
              "  }\n",
              "</style>\n",
              "\n",
              "  <script>\n",
              "    async function quickchart(key) {\n",
              "      const quickchartButtonEl =\n",
              "        document.querySelector('#' + key + ' button');\n",
              "      quickchartButtonEl.disabled = true;  // To prevent multiple clicks.\n",
              "      quickchartButtonEl.classList.add('colab-df-spinner');\n",
              "      try {\n",
              "        const charts = await google.colab.kernel.invokeFunction(\n",
              "            'suggestCharts', [key], {});\n",
              "      } catch (error) {\n",
              "        console.error('Error during call to suggestCharts:', error);\n",
              "      }\n",
              "      quickchartButtonEl.classList.remove('colab-df-spinner');\n",
              "      quickchartButtonEl.classList.add('colab-df-quickchart-complete');\n",
              "    }\n",
              "    (() => {\n",
              "      let quickchartButtonEl =\n",
              "        document.querySelector('#df-5a25218f-3ad5-4b1d-aefc-52fb5444c45f button');\n",
              "      quickchartButtonEl.style.display =\n",
              "        google.colab.kernel.accessAllowed ? 'block' : 'none';\n",
              "    })();\n",
              "  </script>\n",
              "</div>\n",
              "    </div>\n",
              "  </div>\n"
            ]
          },
          "metadata": {},
          "execution_count": 7
        }
      ]
    },
    {
      "cell_type": "markdown",
      "metadata": {
        "id": "cYLRshWDKlBk"
      },
      "source": [
        "Here, we can see that the IBM stock data is available till 29th December 2017(2 days short of 1st Jan 2018).\n",
        "\n",
        "Further, let us check few information related to the attributes present in the data."
      ]
    },
    {
      "cell_type": "code",
      "metadata": {
        "id": "lzczWju_ik8N",
        "colab": {
          "base_uri": "https://localhost:8080/"
        },
        "outputId": "5d0d161b-c06e-40af-97ba-1a14c7b16142"
      },
      "source": [
        "dataset.info()"
      ],
      "execution_count": null,
      "outputs": [
        {
          "output_type": "stream",
          "name": "stdout",
          "text": [
            "<class 'pandas.core.frame.DataFrame'>\n",
            "DatetimeIndex: 3020 entries, 2006-01-03 to 2017-12-29\n",
            "Data columns (total 6 columns):\n",
            " #   Column  Non-Null Count  Dtype  \n",
            "---  ------  --------------  -----  \n",
            " 0   Open    3019 non-null   float64\n",
            " 1   High    3020 non-null   float64\n",
            " 2   Low     3019 non-null   float64\n",
            " 3   Close   3020 non-null   float64\n",
            " 4   Volume  3020 non-null   int64  \n",
            " 5   Name    3020 non-null   object \n",
            "dtypes: float64(4), int64(1), object(1)\n",
            "memory usage: 165.2+ KB\n"
          ]
        }
      ]
    },
    {
      "cell_type": "markdown",
      "metadata": {
        "id": "oMtgciigLWVz"
      },
      "source": [
        "Here, we can observe that there are 3020 entries but the column 'Open' and 'Low' has 3019 entries. This means that there are missing values in the dataset."
      ]
    },
    {
      "cell_type": "code",
      "metadata": {
        "id": "ds-sUeS6lGrP",
        "colab": {
          "base_uri": "https://localhost:8080/"
        },
        "outputId": "4ba01055-27f2-4e9a-f08e-7a9ab55d235b"
      },
      "source": [
        "# Sum of missing values in the dataset for all the columns\n",
        "print(dataset.isnull().sum())"
      ],
      "execution_count": null,
      "outputs": [
        {
          "output_type": "stream",
          "name": "stdout",
          "text": [
            "Open      1\n",
            "High      0\n",
            "Low       1\n",
            "Close     0\n",
            "Volume    0\n",
            "Name      0\n",
            "dtype: int64\n"
          ]
        }
      ]
    },
    {
      "cell_type": "markdown",
      "metadata": {
        "id": "tEIbJiWZZOVL"
      },
      "source": [
        "Now, let us impute the missing values with the mean values of the respective columns."
      ]
    },
    {
      "cell_type": "code",
      "metadata": {
        "id": "Cjj_dOvWlsgC",
        "colab": {
          "base_uri": "https://localhost:8080/"
        },
        "outputId": "17b7de85-2de7-49ad-d35e-211c5ccb7825"
      },
      "source": [
        "new_dataset = dataset\n",
        "new_dataset['Open'] = new_dataset['Open'].fillna(new_dataset['Open'].mean())\n",
        "new_dataset['Low'] = new_dataset['Low'].fillna(new_dataset['Low'].mean())\n",
        "new_dataset.info()"
      ],
      "execution_count": null,
      "outputs": [
        {
          "output_type": "stream",
          "name": "stdout",
          "text": [
            "<class 'pandas.core.frame.DataFrame'>\n",
            "DatetimeIndex: 3020 entries, 2006-01-03 to 2017-12-29\n",
            "Data columns (total 6 columns):\n",
            " #   Column  Non-Null Count  Dtype  \n",
            "---  ------  --------------  -----  \n",
            " 0   Open    3020 non-null   float64\n",
            " 1   High    3020 non-null   float64\n",
            " 2   Low     3020 non-null   float64\n",
            " 3   Close   3020 non-null   float64\n",
            " 4   Volume  3020 non-null   int64  \n",
            " 5   Name    3020 non-null   object \n",
            "dtypes: float64(4), int64(1), object(1)\n",
            "memory usage: 165.2+ KB\n"
          ]
        }
      ]
    },
    {
      "cell_type": "markdown",
      "source": [
        "### Visualizing Stock Prices History\n",
        "\n",
        "Prior to preparing to build a LSTM model, let’s take a look at the historical prices movement of IBM by plotting a line chart."
      ],
      "metadata": {
        "id": "s1JpeCLCjf1q"
      }
    },
    {
      "cell_type": "code",
      "source": [
        "plt.figure(figsize=(15, 8))\n",
        "plt.title('Stock Prices History')\n",
        "plt.plot(dataset['Close'])\n",
        "plt.xlabel('Date')\n",
        "plt.ylabel('Prices ($)');"
      ],
      "metadata": {
        "id": "mRPCFRcJjF_t",
        "colab": {
          "base_uri": "https://localhost:8080/",
          "height": 686
        },
        "outputId": "7c160f12-cf55-4ea9-8650-26052aac25db"
      },
      "execution_count": null,
      "outputs": [
        {
          "output_type": "display_data",
          "data": {
            "text/plain": [
              "<Figure size 1500x800 with 1 Axes>"
            ],
            "image/png": "[encoded data removed]"
          },
          "metadata": {}
        }
      ]
    },
    {
      "cell_type": "markdown",
      "source": [
        "### Data Preprocessing\n",
        "\n",
        "To build a LSTM model, we need to separate our stock prices data into a training set and a test set. Besides, we will also normalize our data so that all the values are ranged from 0 to 1."
      ],
      "metadata": {
        "id": "hx2M58ckoTDb"
      }
    },
    {
      "cell_type": "markdown",
      "metadata": {
        "id": "8aDdUA1VaXil"
      },
      "source": [
        "#### Preparation of training and test set\n",
        "\n",
        "Dividing the data into training set and test set. The training data consists of stock prices from 2006 to 2016 and the test set has the stock prices after 2016."
      ]
    },
    {
      "cell_type": "code",
      "metadata": {
        "id": "XIj_3JRKLpZQ"
      },
      "source": [
        "training_set = new_dataset[:'2016'].iloc[:,1:2].values\n",
        "test_set = new_dataset['2017':].iloc[:,1:2].values"
      ],
      "execution_count": null,
      "outputs": []
    },
    {
      "cell_type": "code",
      "metadata": {
        "id": "-tIgfeLcgRrD",
        "colab": {
          "base_uri": "https://localhost:8080/"
        },
        "outputId": "f45987f4-2b1f-41d6-cbac-3d853d8a882f"
      },
      "source": [
        "# Shape of training set\n",
        "training_set.shape"
      ],
      "execution_count": null,
      "outputs": [
        {
          "output_type": "execute_result",
          "data": {
            "text/plain": [
              "(2769, 1)"
            ]
          },
          "metadata": {},
          "execution_count": 13
        }
      ]
    },
    {
      "cell_type": "code",
      "metadata": {
        "id": "sP3kD4rMiUrN",
        "colab": {
          "base_uri": "https://localhost:8080/"
        },
        "outputId": "1f7fac5b-4912-4ecb-ac83-ab4fea629cd6"
      },
      "source": [
        "# Shape of test set\n",
        "test_set.shape"
      ],
      "execution_count": null,
      "outputs": [
        {
          "output_type": "execute_result",
          "data": {
            "text/plain": [
              "(251, 1)"
            ]
          },
          "metadata": {},
          "execution_count": 14
        }
      ]
    },
    {
      "cell_type": "markdown",
      "metadata": {
        "id": "UC-Q4lEaIfUT"
      },
      "source": [
        "Further, let us choose 'High' attribute for prices and see what it looks like."
      ]
    },
    {
      "cell_type": "code",
      "metadata": {
        "id": "Sthb3IRIL5nv",
        "colab": {
          "base_uri": "https://localhost:8080/",
          "height": 356
        },
        "outputId": "2eca6869-abe9-4e73-c1b2-b612fca0a4be"
      },
      "source": [
        "new_dataset[\"High\"][:'2016'].plot(figsize=(16,4),legend=True)\n",
        "new_dataset[\"High\"]['2017':].plot(figsize=(16,4),legend=True)\n",
        "plt.legend(['Training set (Before 2017)','Test set (2017 and beyond)'])\n",
        "plt.title('IBM stock price')\n",
        "plt.show()"
      ],
      "execution_count": null,
      "outputs": [
        {
          "output_type": "display_data",
          "data": {
            "text/plain": [
              "<Figure size 1600x400 with 1 Axes>"
            ],
            "image/png": "[encoded data removed]"
          },
          "metadata": {}
        }
      ]
    },
    {
      "cell_type": "markdown",
      "metadata": {
        "id": "JQ9Hrdu7JPee"
      },
      "source": [
        "#### Data Normalization\n",
        "\n",
        "We will normlize the data using MinMaxScaler so that the data is in the range of 0 and 1\n"
      ]
    },
    {
      "cell_type": "code",
      "metadata": {
        "id": "gbvMheiJL-lr"
      },
      "source": [
        "# Scaling the training set using MinMaxScaler\n",
        "sc = MinMaxScaler(feature_range=(0,1))\n",
        "training_set_scaled = sc.fit_transform(training_set)"
      ],
      "execution_count": null,
      "outputs": []
    },
    {
      "cell_type": "markdown",
      "metadata": {
        "id": "plE20--1Jm7z"
      },
      "source": [
        "#### Data Preparation\n",
        "\n",
        "We should input our data in the form of a 3D array to the LSTM model. Since LSTMs store long term memory state, first we create a data in 60 timesteps before using numpy to convert it into an array. Finally, we convert the data into a 3D array with X_train samples, 60 timestamps, and one feature (one output) at each step. So, for each element of training set, we have 60 previous training set elements."
      ]
    },
    {
      "cell_type": "code",
      "metadata": {
        "id": "qn1BUOx6MBl2"
      },
      "source": [
        "X_train = []\n",
        "y_train = []\n",
        "for i in range(60, 2769):\n",
        "    X_train.append(training_set_scaled[i-60:i,0])\n",
        "    y_train.append(training_set_scaled[i,0])\n",
        "X_train, y_train = np.array(X_train), np.array(y_train)"
      ],
      "execution_count": null,
      "outputs": []
    },
    {
      "cell_type": "markdown",
      "metadata": {
        "id": "D-RpwHoeLAmp"
      },
      "source": [
        "Checking the shape of X_train and y_train in order to understand more about the structure of training features and labels."
      ]
    },
    {
      "cell_type": "code",
      "metadata": {
        "id": "wezUlJxFRxgm",
        "colab": {
          "base_uri": "https://localhost:8080/"
        },
        "outputId": "879746b2-c052-484e-8c3a-d7171b7f3e3a"
      },
      "source": [
        "X_train.shape"
      ],
      "execution_count": null,
      "outputs": [
        {
          "output_type": "execute_result",
          "data": {
            "text/plain": [
              "(2709, 60)"
            ]
          },
          "metadata": {},
          "execution_count": 18
        }
      ]
    },
    {
      "cell_type": "code",
      "metadata": {
        "id": "hIVWKC7c9tDp",
        "colab": {
          "base_uri": "https://localhost:8080/"
        },
        "outputId": "841e6a5f-1925-4328-b3c1-51823ee0ffdd"
      },
      "source": [
        "y_train.shape"
      ],
      "execution_count": null,
      "outputs": [
        {
          "output_type": "execute_result",
          "data": {
            "text/plain": [
              "(2709,)"
            ]
          },
          "metadata": {},
          "execution_count": 19
        }
      ]
    },
    {
      "cell_type": "markdown",
      "metadata": {
        "id": "8MLt6uUzRO_f"
      },
      "source": [
        "**Reshaping the data**\n",
        "\n",
        "One of the essential point to remember is that LSTM requires inputs to have shape: `[batch, timesteps, feature]`. Therefore, we will reshape the training set in certain dimensions so that it can be a valid input to the fit() function of the Sequential() model of Keras.\n",
        "\n",
        "To know more about implementing LSTM layer using Keras go through the [Keras' documentation](https://keras.io/api/layers/recurrent_layers/lstm/)."
      ]
    },
    {
      "cell_type": "code",
      "metadata": {
        "id": "UMiHCmlSMCTY"
      },
      "source": [
        "# Reshaping X_train for efficient modelling\n",
        "X_train = np.reshape(X_train, (X_train.shape[0],X_train.shape[1],1))"
      ],
      "execution_count": null,
      "outputs": []
    },
    {
      "cell_type": "markdown",
      "metadata": {
        "id": "Zvn7kn5vLgNP"
      },
      "source": [
        "Checking the shape after reshaping the X_train data."
      ]
    },
    {
      "cell_type": "code",
      "metadata": {
        "id": "-Ogj_Yn2R36M",
        "colab": {
          "base_uri": "https://localhost:8080/"
        },
        "outputId": "933a3108-5e98-4595-8f82-2b24e8e49897"
      },
      "source": [
        "X_train.shape"
      ],
      "execution_count": null,
      "outputs": [
        {
          "output_type": "execute_result",
          "data": {
            "text/plain": [
              "(2709, 60, 1)"
            ]
          },
          "metadata": {},
          "execution_count": 21
        }
      ]
    },
    {
      "cell_type": "markdown",
      "metadata": {
        "id": "ddjnTDdBMgz0"
      },
      "source": [
        "### Setting Up LSTM Network Architecture\n",
        "\n",
        "Before moving ahead with building model let us understand about LSTM."
      ]
    },
    {
      "cell_type": "markdown",
      "metadata": {
        "id": "g6DRqEIY6A3f"
      },
      "source": [
        "#### **Long Short-Term Memory units (LSTM Cell)**"
      ]
    },
    {
      "cell_type": "markdown",
      "metadata": {
        "id": "QpQP6UCK1mzS"
      },
      "source": [
        "<center>\n",
        "<img src=\"https://cdn.iisc.talentsprint.com/DLFA/Experiment_related_data/LSTM.png\" width=\"500\" height=\"450\">\n",
        "</center>"
      ]
    },
    {
      "cell_type": "markdown",
      "metadata": {
        "id": "SsImcgfA0wed"
      },
      "source": [
        "Long Term Short Term Memory networks are an extremely powerful time-series model. They are a type of Recurrent Neural Network (RNN), that are able to learn long-term dependencies. LTSMs have been used for applying RNN’s in a variety of problems including image captioning, speech recognition, language modeling, and translation.\n",
        "\n",
        "LSTMs solve the problem of short-term memory, or vanishing and exploding gradients and gradient shrinking as a model backpropagates through time. The LSTM has gates that are able to regulate what to keep or forget/throw away. By doing so, it learns to use relevant information to make predictions. The LSTM is able to store information from the past which helps especially predict stock price fluctuations based on past prices. The market changes constantly, so making timely accurate decisions and predictions is extremely crucial for accurate results.\n",
        "\n",
        "LSTM processes data sequentially. The LSTM passes data as it propagates forward and uses gates to decide whether to keep or forget information. Each LSTM cell contains a **forget state**, **input gate**, **output gate**, and **cell state**, along with two activation functions, **Sigmoid** and **Tanh**. The **cell state** contains the long term memory, with **input gates** updating the cell state. The **forget gate** decides what information needs to be thrown away. The value 0 indicates nonessential, while 1 indicates important. The output (hidden state) is used as the prediction.\n",
        "\n",
        "**Sigmoid activation** ensures that values stay between 0 and 1. Any value multiplied by 0 is forgotten while any value multiplied by 1 is kept.\n",
        "\n",
        "**Tanh** is used to determine the candidate values to be added to the cell state. Tanh activation ensures that the values stay between a positive (1) and negative (-1) number, allowing for increase or decrease in the value for cell state.\n",
        "\n",
        "\n",
        "Now, let us build the LSTM model.\n",
        "\n",
        "\n"
      ]
    },
    {
      "cell_type": "code",
      "source": [
        "# Creating Sequential model\n",
        "model = Sequential()\n",
        "\n",
        "# First Layer\n",
        "# The LSTM layer is added with the following arguments:\n",
        "# 20 units is the dimensionality of the output space,\n",
        "# return_sequences=True is necessary for stacking LSTM layers so the consequent LSTM layer has a\n",
        "# three-dimensional sequence input, and input_shape is the shape of the training dataset\n",
        "model.add(LSTM(units=100, input_shape=(X_train.shape[1],1), return_sequences=True))\n",
        "\n",
        "# Second Layer\n",
        "model.add(LSTM(units=100))\n",
        "\n",
        "# Third Layer\n",
        "model.add(Dense(units=25))\n",
        "\n",
        "# Output Layer\n",
        "model.add(Dense(units=1))\n",
        "\n",
        "model.summary()"
      ],
      "metadata": {
        "id": "CLp2aKnyuw3q",
        "colab": {
          "base_uri": "https://localhost:8080/"
        },
        "outputId": "556d1667-4228-463a-e109-12b88d56dc91"
      },
      "execution_count": null,
      "outputs": [
        {
          "output_type": "stream",
          "name": "stdout",
          "text": [
            "Model: \"sequential\"\n",
            "_________________________________________________________________\n",
            " Layer (type)                Output Shape              Param #   \n",
            "=================================================================\n",
            " lstm (LSTM)                 (None, 60, 100)           40800     \n",
            "                                                                 \n",
            " lstm_1 (LSTM)               (None, 100)               80400     \n",
            "                                                                 \n",
            " dense (Dense)               (None, 25)                2525      \n",
            "                                                                 \n",
            " dense_1 (Dense)             (None, 1)                 26        \n",
            "                                                                 \n",
            "=================================================================\n",
            "Total params: 123751 (483.40 KB)\n",
            "Trainable params: 123751 (483.40 KB)\n",
            "Non-trainable params: 0 (0.00 Byte)\n",
            "_________________________________________________________________\n"
          ]
        }
      ]
    },
    {
      "cell_type": "markdown",
      "source": [
        "### Training LSTM Model\n"
      ],
      "metadata": {
        "id": "r4AnwZwTrcob"
      }
    },
    {
      "cell_type": "code",
      "metadata": {
        "id": "GdDPenLCrIB4",
        "colab": {
          "base_uri": "https://localhost:8080/"
        },
        "outputId": "627d9a68-b90f-45a2-f972-7c34bbd7f219"
      },
      "source": [
        "# Compiling the model\n",
        "model.compile(optimizer='adam', loss='mean_squared_error')\n",
        "\n",
        "# Fitting the model using X_train and y_train model\n",
        "model.fit(X_train, y_train, epochs=10, batch_size=64)"
      ],
      "execution_count": null,
      "outputs": [
        {
          "output_type": "stream",
          "name": "stdout",
          "text": [
            "Epoch 1/10\n",
            "43/43 [==============================] - 13s 11ms/step - loss: 0.0171\n",
            "Epoch 2/10\n",
            "43/43 [==============================] - 0s 9ms/step - loss: 8.4846e-04\n",
            "Epoch 3/10\n",
            "43/43 [==============================] - 0s 9ms/step - loss: 7.9945e-04\n",
            "Epoch 4/10\n",
            "43/43 [==============================] - 0s 9ms/step - loss: 7.8394e-04\n",
            "Epoch 5/10\n",
            "43/43 [==============================] - 0s 8ms/step - loss: 7.2790e-04\n",
            "Epoch 6/10\n",
            "43/43 [==============================] - 0s 8ms/step - loss: 7.4141e-04\n",
            "Epoch 7/10\n",
            "43/43 [==============================] - 0s 9ms/step - loss: 6.8502e-04\n",
            "Epoch 8/10\n",
            "43/43 [==============================] - 0s 9ms/step - loss: 6.8349e-04\n",
            "Epoch 9/10\n",
            "43/43 [==============================] - 0s 9ms/step - loss: 7.0247e-04\n",
            "Epoch 10/10\n",
            "43/43 [==============================] - 0s 8ms/step - loss: 6.3434e-04\n"
          ]
        },
        {
          "output_type": "execute_result",
          "data": {
            "text/plain": [
              "<keras.src.callbacks.History at 0x791ef602bf40>"
            ]
          },
          "metadata": {},
          "execution_count": 23
        }
      ]
    },
    {
      "cell_type": "markdown",
      "metadata": {
        "id": "6UaoRto3HscD"
      },
      "source": [
        "Creating helper function for plotting real IBM stock prices and predicted IBM stock prices. Also, creating a function for calculatin rmse value for test set and predictions."
      ]
    },
    {
      "cell_type": "code",
      "metadata": {
        "id": "ysssC7phLhkf"
      },
      "source": [
        "# Real IBM stock price vs predicted IBM stock price\n",
        "def plot_predictions(test,predicted):\n",
        "    plt.plot(test, color='red',label='Real IBM Stock Price')\n",
        "    plt.plot(predicted, color='blue',label='Predicted IBM Stock Price')\n",
        "    plt.title('IBM Stock Price Prediction')\n",
        "    plt.xlabel('Time')\n",
        "    plt.ylabel('IBM Stock Price')\n",
        "    plt.legend()\n",
        "    plt.show()\n",
        "\n",
        "# Function for calculating RMSE\n",
        "def return_rmse(test,predicted):\n",
        "    rmse = math.sqrt(mean_squared_error(test, predicted))\n",
        "    print(\"The root mean squared error is {}.\".format(rmse))"
      ],
      "execution_count": null,
      "outputs": []
    },
    {
      "cell_type": "markdown",
      "metadata": {
        "id": "1Ndx-XWJNYxu"
      },
      "source": [
        "Before predicting future stock prices, we have to modify the test set in a similar way as the training set"
      ]
    },
    {
      "cell_type": "code",
      "metadata": {
        "id": "yngkNruaMIvF"
      },
      "source": [
        "# Merge the training set and the test set on the 0 axis\n",
        "dataset_total = pd.concat((new_dataset[\"High\"][:'2016'],new_dataset[\"High\"]['2017':]), axis=0)\n",
        "# set 60 as the time step again\n",
        "inputs = dataset_total[len(dataset_total)-len(test_set) - 60:].values\n",
        "inputs = inputs.reshape(-1,1)\n",
        "inputs  = sc.transform(inputs)"
      ],
      "execution_count": null,
      "outputs": []
    },
    {
      "cell_type": "markdown",
      "metadata": {
        "id": "XOg8i70KN0JT"
      },
      "source": [
        "Checking the shape of the input"
      ]
    },
    {
      "cell_type": "code",
      "metadata": {
        "id": "VPsCNIl-KouX",
        "colab": {
          "base_uri": "https://localhost:8080/"
        },
        "outputId": "44ee2170-5044-479e-a346-dd0e13171cd7"
      },
      "source": [
        "inputs.shape"
      ],
      "execution_count": null,
      "outputs": [
        {
          "output_type": "execute_result",
          "data": {
            "text/plain": [
              "(311, 1)"
            ]
          },
          "metadata": {},
          "execution_count": 26
        }
      ]
    },
    {
      "cell_type": "markdown",
      "metadata": {
        "id": "tErssnfhOEKB"
      },
      "source": [
        "Preparing X_test and predicting the stock prices"
      ]
    },
    {
      "cell_type": "code",
      "metadata": {
        "id": "4Ij3mMH2MNLD",
        "colab": {
          "base_uri": "https://localhost:8080/"
        },
        "outputId": "103c6265-2f0c-495c-9cb5-7dc10097c77d"
      },
      "source": [
        "X_test = []\n",
        "for i in range(60,311):\n",
        "    X_test.append(inputs[i-60:i,0])\n",
        "X_test = np.array(X_test)\n",
        "X_test = np.reshape(X_test, (X_test.shape[0],X_test.shape[1],1))\n",
        "\n",
        "# Apply the model to predict the stock prices based on the test set\n",
        "predicted_stock_price = model.predict(X_test)\n",
        "\n",
        "# Use the inverse_transform method to denormalize the predicted stock prices\n",
        "# inverse_transform puts the stock prices in a normal readable format\n",
        "predicted_stock_price = sc.inverse_transform(predicted_stock_price)"
      ],
      "execution_count": null,
      "outputs": [
        {
          "output_type": "stream",
          "name": "stdout",
          "text": [
            "8/8 [==============================] - 1s 5ms/step\n"
          ]
        }
      ]
    },
    {
      "cell_type": "markdown",
      "metadata": {
        "id": "649muwQDOOJ3"
      },
      "source": [
        "Visualizing the results for LSTM model built"
      ]
    },
    {
      "cell_type": "code",
      "metadata": {
        "id": "erjmfh43MU6P",
        "colab": {
          "base_uri": "https://localhost:8080/",
          "height": 508
        },
        "outputId": "6f848c4f-191f-40a4-96b1-69f5cc926f51"
      },
      "source": [
        "plot_predictions(test_set, predicted_stock_price)"
      ],
      "execution_count": null,
      "outputs": [
        {
          "output_type": "display_data",
          "data": {
            "text/plain": [
              "<Figure size 640x480 with 1 Axes>"
            ],
            "image/png": "[encoded data removed]"
          },
          "metadata": {}
        }
      ]
    },
    {
      "cell_type": "markdown",
      "metadata": {
        "id": "hqNhpS5GOXJD"
      },
      "source": [
        "#### Evaluating the model\n",
        "\n",
        "Let us evaluate the LSTM model using RMSE value"
      ]
    },
    {
      "cell_type": "code",
      "metadata": {
        "id": "QXqpOEaxMZDH",
        "colab": {
          "base_uri": "https://localhost:8080/"
        },
        "outputId": "12f9edd0-5e40-4acd-dce2-e844c6dbeee3"
      },
      "source": [
        "# Apply the RMSE formula to calculate the degree of discrepancy between\n",
        "# the predicted prices and real prices and display the result\n",
        "return_rmse(test_set, predicted_stock_price)"
      ],
      "execution_count": null,
      "outputs": [
        {
          "output_type": "stream",
          "name": "stdout",
          "text": [
            "The root mean squared error is 3.3038495550120857.\n"
          ]
        }
      ]
    },
    {
      "cell_type": "markdown",
      "metadata": {
        "id": "o2pmFJqpO-_m"
      },
      "source": [
        "Let us look at the predictions for the next day which is 1st January 2018."
      ]
    },
    {
      "cell_type": "code",
      "metadata": {
        "id": "aN62-zilTZl6",
        "colab": {
          "base_uri": "https://localhost:8080/"
        },
        "outputId": "657a6852-ee46-4d66-e214-00fac5bbaa75"
      },
      "source": [
        "print(f'Prediction of stock prices for the next day is {predicted_stock_price[-1,0]}')"
      ],
      "execution_count": null,
      "outputs": [
        {
          "output_type": "stream",
          "name": "stdout",
          "text": [
            "Prediction of stock prices for the next day is 155.05160522460938\n"
          ]
        }
      ]
    },
    {
      "cell_type": "markdown",
      "metadata": {
        "id": "VHfHdGCP_n6Y"
      },
      "source": [
        "### Please answer the questions below to complete the experiment:\n",
        "\n",
        "\n"
      ]
    },
    {
      "cell_type": "markdown",
      "metadata": {
        "id": "YZoDc6yA_vGd"
      },
      "source": [
        "#### Consider the following statements and answer Q1.\n",
        "\n",
        "A. To generate the inputs for input and output gates.\n",
        "\n",
        "B. It helps in updating the information in such a way that there is no requirement of input and output gates.\n",
        "\n",
        "C. It is a memory unit that retains information across timesteps.\n",
        "\n",
        "D. It looks at the previous hidden state $h_{t-1}$ and the current input $x_{t}$ and outputs a number between $0$ and $1$ for each member of previous cell output $C_{t-1}$ for whether to forget."
      ]
    },
    {
      "cell_type": "code",
      "metadata": {
        "id": "kmvdJ4aNmGjR"
      },
      "source": [
        "#@title Q.1. What is the purpose of using forget gate in LSTM? { run: \"auto\", form-width: \"500px\", display-mode: \"form\" }\n",
        "Answer1 = \"Only D\" #@param [\"\",\"Only A\", \"Only B\", \"Only C\", \"Only D\"]\n"
      ],
      "execution_count": null,
      "outputs": []
    },
    {
      "cell_type": "markdown",
      "metadata": {
        "id": "pNSdoU6Gqp8B"
      },
      "source": [
        "#### Consider the following statements and answer Q2.\n",
        "\n",
        "1.  Deep networks do not perform hierarchical data abstractions which enable the non-linear separation of complex data samples.\n",
        "\n",
        "2.  Deep networks perform hierarchical data abstractions which cannot perform the non-linear separation of complex data samples.\n",
        "\n",
        "3.  Deep networks perform hierarchical data abstractions which enable the non-linear separation of complex data samples."
      ]
    },
    {
      "cell_type": "code",
      "metadata": {
        "id": "UX24XAeIJ6Nf"
      },
      "source": [
        "#@title Q.2. Which of the above statement(s) is true? { run: \"auto\", form-width: \"500px\", display-mode: \"form\" }\n",
        "Answer2 = \"Statement 3\" #@param [\"\",\"Statement 2\", \"Statement 3\", \"Statement 1\", \"All of the above\"]\n"
      ],
      "execution_count": null,
      "outputs": []
    },
    {
      "cell_type": "code",
      "metadata": {
        "id": "NMzKSbLIgFzQ"
      },
      "source": [
        "#@title How was the experiment? { run: \"auto\", form-width: \"500px\", display-mode: \"form\" }\n",
        "Complexity = \"Good and Challenging for me\" #@param [\"\",\"Too Simple, I am wasting time\", \"Good, But Not Challenging for me\", \"Good and Challenging for me\", \"Was Tough, but I did it\", \"Too Difficult for me\"]\n"
      ],
      "execution_count": null,
      "outputs": []
    },
    {
      "cell_type": "code",
      "metadata": {
        "id": "DjcH1VWSFI2l"
      },
      "source": [
        "#@title If it was too easy, what more would you have liked to be added? If it was very difficult, what would you have liked to have been removed? { run: \"auto\", display-mode: \"form\" }\n",
        "Additional = \"nil\" #@param {type:\"string\"}\n"
      ],
      "execution_count": null,
      "outputs": []
    },
    {
      "cell_type": "code",
      "metadata": {
        "id": "4VBk_4VTAxCM"
      },
      "source": [
        "#@title Can you identify the concepts from the lecture which this experiment covered? { run: \"auto\", vertical-output: true, display-mode: \"form\" }\n",
        "Concepts = \"Yes\" #@param [\"\",\"Yes\", \"No\"]\n"
      ],
      "execution_count": null,
      "outputs": []
    },
    {
      "cell_type": "code",
      "metadata": {
        "id": "XH91cL1JWH7m"
      },
      "source": [
        "#@title  Text and image description/explanation and code comments within the experiment: { run: \"auto\", vertical-output: true, display-mode: \"form\" }\n",
        "Comments = \"Very Useful\" #@param [\"\",\"Very Useful\", \"Somewhat Useful\", \"Not Useful\", \"Didn't use\"]\n"
      ],
      "execution_count": null,
      "outputs": []
    },
    {
      "cell_type": "code",
      "metadata": {
        "id": "z8xLqj7VWIKW"
      },
      "source": [
        "#@title Mentor Support: { run: \"auto\", vertical-output: true, display-mode: \"form\" }\n",
        "Mentor_support = \"Very Useful\" #@param [\"\",\"Very Useful\", \"Somewhat Useful\", \"Not Useful\", \"Didn't use\"]\n"
      ],
      "execution_count": null,
      "outputs": []
    },
    {
      "cell_type": "code",
      "metadata": {
        "cellView": "form",
        "id": "FzAZHt1zw-Y-",
        "colab": {
          "base_uri": "https://localhost:8080/"
        },
        "outputId": "c8721ad2-d62f-4bf9-f41d-32dbbf9acb7c"
      },
      "source": [
        "#@title Run this cell to submit your notebook for grading { vertical-output: true }\n",
        "try:\n",
        "  if submission_id:\n",
        "      return_id = submit_notebook()\n",
        "      if return_id : submission_id = return_id\n",
        "  else:\n",
        "      print(\"Please complete the setup first.\")\n",
        "except NameError:\n",
        "  print (\"Please complete the setup first.\")"
      ],
      "execution_count": null,
      "outputs": [
        {
          "output_type": "stream",
          "name": "stdout",
          "text": [
            "Your submission is successful.\n",
            "Ref Id: 1502\n",
            "Date of submission:  16 Sep 2023\n",
            "Time of submission:  14:20:58\n",
            "View your submissions: https://dlfa-iisc.talentsprint.com/notebook_submissions\n"
          ]
        }
      ]
    }
  ]
}